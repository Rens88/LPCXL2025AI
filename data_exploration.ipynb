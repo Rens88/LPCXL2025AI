{
 "cells": [
  {
   "cell_type": "code",
   "execution_count": null,
   "metadata": {},
   "outputs": [],
   "source": [
    "# Import libraries and load the data\n",
    "import numpy as np\n",
    "import pandas as pd\n",
    "from faker import Faker\n",
    "from datetime import datetime, timedelta\n",
    "import matplotlib.pyplot as plt\n",
    "import random\n",
    "import seaborn as sns\n",
    "import datetime as dt\n",
    "from scipy import stats\n",
    "\n",
    "# Load your dataset\n",
    "df = pd.read_csv('exported_data_biased.csv', index_col = 'index')"
   ]
  },
  {
   "cell_type": "code",
   "execution_count": null,
   "metadata": {},
   "outputs": [],
   "source": [
    "## Plots"
   ]
  },
  {
   "cell_type": "markdown",
   "metadata": {},
   "source": [
    "Hoe ziet een tijdslijn van één individu eruit?"
   ]
  },
  {
   "cell_type": "code",
   "execution_count": 1,
   "metadata": {},
   "outputs": [
    {
     "ename": "NameError",
     "evalue": "name 'biased_training_load_en_wellness_data' is not defined",
     "output_type": "error",
     "traceback": [
      "\u001b[1;31m---------------------------------------------------------------------------\u001b[0m",
      "\u001b[1;31mNameError\u001b[0m                                 Traceback (most recent call last)",
      "Cell \u001b[1;32mIn[1], line 19\u001b[0m\n\u001b[0;32m     16\u001b[0m     \u001b[38;5;28;01mreturn\u001b[39;00m\n\u001b[0;32m     18\u001b[0m \u001b[38;5;66;03m# Example usage:\u001b[39;00m\n\u001b[1;32m---> 19\u001b[0m plot_injury_status(\u001b[43mbiased_training_load_en_wellness_data\u001b[49m)\n",
      "\u001b[1;31mNameError\u001b[0m: name 'biased_training_load_en_wellness_data' is not defined"
     ]
    }
   ],
   "source": [
    "# For exploration purposes, plot when an individual is injured (works for relatively small numbers (<15 ish))\n",
    "def plot_injury_status(df):\n",
    "    plt.figure(figsize=(12, 6))\n",
    "    for user_id in df[\"user_id\"].unique():\n",
    "        user_data = df[df[\"user_id\"] == user_id]\n",
    "        plt.plot(user_data[\"date\"], user_data[\"session_rpe_AC07_28_days\"], label=f'User {user_id}')\n",
    "        plt.plot(user_data[\"date\"], user_data[\"currently_injured\"].astype(int), label=f'User {user_id}')\n",
    "\n",
    "        break\n",
    "    \n",
    "    plt.xlabel(\"Date\")\n",
    "    plt.ylabel(\"session_rpe_AC07_28_days\")\n",
    "    plt.title(\"session_rpe_AC07_28_days\")\n",
    "    plt.legend()\n",
    "    plt.show()\n",
    "    return\n",
    "\n",
    "# Example usage:\n",
    "plot_injury_status(biased_training_load_en_wellness_data)"
   ]
  }
 ],
 "metadata": {
  "kernelspec": {
   "display_name": "Python 3",
   "language": "python",
   "name": "python3"
  },
  "language_info": {
   "codemirror_mode": {
    "name": "ipython",
    "version": 3
   },
   "file_extension": ".py",
   "mimetype": "text/x-python",
   "name": "python",
   "nbconvert_exporter": "python",
   "pygments_lexer": "ipython3",
   "version": "3.12.9"
  }
 },
 "nbformat": 4,
 "nbformat_minor": 2
}
